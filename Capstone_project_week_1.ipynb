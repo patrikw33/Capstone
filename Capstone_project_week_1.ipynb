{
 "cells": [
  {
   "cell_type": "markdown",
   "metadata": {},
   "source": [
    "#  Capstone Project - The Battle of Neighborhoods (Week 1)"
   ]
  },
  {
   "cell_type": "markdown",
   "metadata": {},
   "source": [
    " ## Table of contents\n",
    "* [Introduction](#introduction)\n",
    "* [Data Acquisition](#data)"
   ]
  },
  {
   "cell_type": "markdown",
   "metadata": {},
   "source": [
    "## Introduction <a name =\"introduction\"></a>"
   ]
  },
  {
   "cell_type": "markdown",
   "metadata": {},
   "source": [
    "**LIDL** is one of the cheapest super market in Europe but it's not represented in many European cities, specially in Scandinavian countries such as Denmark. Surprisingly, the last five years, ** LIDL Group ** have started to build several ** LIDL Supermarket** in different regions of Denmark and specially the north of Denmark called ** Nordjylland ** in Danish language. Therefore, the purpose of this capstone project is to investigate and find out where the next ** LIDL Supermarket** will be built in **Aalborg** the main city of **Nordjylland**.\n",
    "The target audience is Aalborg Municipality or borough and the stakeholders are of course ** LIDL Group **, the main competitors such as **Rema1000**, **Føtex**, **Fakta**, **ALDI** and ** Aalborg City**\n"
   ]
  },
  {
   "cell_type": "markdown",
   "metadata": {},
   "source": [
    "## Data"
   ]
  },
  {
   "cell_type": "markdown",
   "metadata": {},
   "source": [
    "To Tackle or solve this problem, I will of course nedd a Dataset, which will  find and locate all the existing  **Lidl** Supermarket and main competitors which already exist in Nordjylland region. I do not have an existing dataset for this problem. For that reason, **Foursquare API ** will be used in order to create a proper dataset that will be used to solve the problem. The dataset will certainly contain:\n",
    "* All main competiors such as **Rema1000**, **Føtex**, **Fakta**, **ALDI** , ** Meny ** and their location\n",
    "* All the existing **LIDl** supermarket,their geograpghic location and the ditance from  the main city.\n",
    "* Aalborg borough or neighbourhood, the population and the number of person per  km2."
   ]
  },
  {
   "cell_type": "code",
   "execution_count": null,
   "metadata": {
    "collapsed": true
   },
   "outputs": [],
   "source": []
  }
 ],
 "metadata": {
  "kernelspec": {
   "display_name": "Python 3",
   "language": "python",
   "name": "python3"
  },
  "language_info": {
   "codemirror_mode": {
    "name": "ipython",
    "version": 3
   },
   "file_extension": ".py",
   "mimetype": "text/x-python",
   "name": "python",
   "nbconvert_exporter": "python",
   "pygments_lexer": "ipython3",
   "version": "3.6.3"
  }
 },
 "nbformat": 4,
 "nbformat_minor": 2
}
